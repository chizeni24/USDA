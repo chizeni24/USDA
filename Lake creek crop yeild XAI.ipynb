{
 "cells": [
  {
   "cell_type": "markdown",
   "metadata": {},
   "source": [
    "# Import all the needed libraries"
   ]
  },
  {
   "cell_type": "code",
   "execution_count": 128,
   "metadata": {},
   "outputs": [],
   "source": [
    "import os \n",
    "import pandas as pd\n",
    "import numpy as np\n",
    "from skimpy import skim\n",
    "import pprint\n",
    "from tabulate import tabulate\n",
    "import seaborn as sns\n",
    "import matplotlib.pyplot as plt\n",
    "from prettytable import PrettyTable\n",
    "from sklearn.ensemble import ExtraTreesRegressor, RandomForestRegressor\n",
    "from xgboost import XGBRegressor\n",
    "from sklearn.model_selection import KFold, cross_val_score\n",
    "from sklearn.model_selection import TimeSeriesSplit, train_test_split\n",
    "from sklearn.pipeline import Pipeline\n",
    "from sklearn.metrics import r2_score"
   ]
  },
  {
   "cell_type": "markdown",
   "metadata": {},
   "source": [
    "# Load all climate data (Precip & Soil Moisture) station F102 - F108"
   ]
  },
  {
   "cell_type": "code",
   "execution_count": 2,
   "metadata": {},
   "outputs": [
    {
     "name": "stdout",
     "output_type": "stream",
     "text": [
      "dict_keys(['F102', 'F106', 'F107', 'F108', 'F110', 'MESONET HINT_TEMP', 'Discharge', 'Soils_Slopes'])\n"
     ]
    }
   ],
   "source": [
    "# Load the excel sheet\n",
    "df_station = pd.read_excel(r\"Lake Creek Climate-Soil moisture-Discharge-Physiography Data.xlsx\", engine = \"openpyxl\", sheet_name =None, )\n",
    "# Print the name of each sheet that is accessible via the name.\n",
    "pprint.pprint(df_station.keys(),)"
   ]
  },
  {
   "cell_type": "markdown",
   "metadata": {},
   "source": [
    "## Data preprocesing"
   ]
  },
  {
   "cell_type": "code",
   "execution_count": 3,
   "metadata": {},
   "outputs": [],
   "source": [
    "# Access the first weather station\n",
    "# Rename the column as the first row and reindex \n",
    "df_station[\"F102\"].columns = df_station[\"F102\"].iloc[0]\n",
    "df = df_station[\"F102\"].iloc[1:]\n",
    "# Set the Date column to the index\n",
    "df = df.set_index(\"Date\")"
   ]
  },
  {
   "cell_type": "code",
   "execution_count": 52,
   "metadata": {},
   "outputs": [],
   "source": [
    "df = df.rename(columns={\"mm\":\"PRCP [mm]\",\"5 cm\":\"SM 5 [cm]\", \n",
    "                   \"25 cm\": \"SM 25 [cm]\", \"45 cm\": \"SM 45 [cm]\"})"
   ]
  },
  {
   "cell_type": "code",
   "execution_count": 5,
   "metadata": {},
   "outputs": [
    {
     "data": {
      "text/plain": [
       "5663"
      ]
     },
     "execution_count": 5,
     "metadata": {},
     "output_type": "execute_result"
    }
   ],
   "source": [
    "# Obtain the Mesonet Temperature Min and Max temperature\n",
    "Temperature = df_station[\"MESONET HINT_TEMP\"].set_index('Date')\n",
    "len(Temperature)"
   ]
  },
  {
   "cell_type": "markdown",
   "metadata": {},
   "source": [
    "The lenghths of the dataframes are the same length, Do a check with date_Range method "
   ]
  },
  {
   "cell_type": "code",
   "execution_count": 6,
   "metadata": {},
   "outputs": [
    {
     "data": {
      "text/plain": [
       "DatetimeIndex(['2005-07-01', '2005-07-02', '2005-07-03', '2005-07-04',\n",
       "               '2005-07-05', '2005-07-06', '2005-07-07', '2005-07-08',\n",
       "               '2005-07-09', '2005-07-10',\n",
       "               ...\n",
       "               '2020-12-22', '2020-12-23', '2020-12-24', '2020-12-25',\n",
       "               '2020-12-26', '2020-12-27', '2020-12-28', '2020-12-29',\n",
       "               '2020-12-30', '2020-12-31'],\n",
       "              dtype='datetime64[ns]', length=5663, freq='D')"
      ]
     },
     "execution_count": 6,
     "metadata": {},
     "output_type": "execute_result"
    }
   ],
   "source": [
    "pd.date_range('07/01/2005','12/31/2020')"
   ]
  },
  {
   "cell_type": "code",
   "execution_count": 7,
   "metadata": {},
   "outputs": [],
   "source": [
    "# Merge the Precipitation, Soil moisture and Temperature  \n",
    "df = df.merge(Temperature, how= 'inner', on = 'Date')"
   ]
  },
  {
   "cell_type": "markdown",
   "metadata": {},
   "source": [
    "### Deal with the missing values"
   ]
  },
  {
   "cell_type": "markdown",
   "metadata": {},
   "source": [
    "The first 60 rows contain -998 as the value and are dropped."
   ]
  },
  {
   "cell_type": "code",
   "execution_count": 8,
   "metadata": {},
   "outputs": [
    {
     "data": {
      "text/plain": [
       "mm           0\n",
       "5 cm        60\n",
       "25 cm       60\n",
       "45 cm       60\n",
       "TMAX (C)     0\n",
       "TMIN (C)     0\n",
       "dtype: int64"
      ]
     },
     "execution_count": 8,
     "metadata": {},
     "output_type": "execute_result"
    }
   ],
   "source": [
    "df.where(df.iloc[:, :-2] == -998).count()\n"
   ]
  },
  {
   "cell_type": "code",
   "execution_count": 9,
   "metadata": {},
   "outputs": [
    {
     "data": {
      "text/html": [
       "<div>\n",
       "<style scoped>\n",
       "    .dataframe tbody tr th:only-of-type {\n",
       "        vertical-align: middle;\n",
       "    }\n",
       "\n",
       "    .dataframe tbody tr th {\n",
       "        vertical-align: top;\n",
       "    }\n",
       "\n",
       "    .dataframe thead th {\n",
       "        text-align: right;\n",
       "    }\n",
       "</style>\n",
       "<table border=\"1\" class=\"dataframe\">\n",
       "  <thead>\n",
       "    <tr style=\"text-align: right;\">\n",
       "      <th></th>\n",
       "      <th>mm</th>\n",
       "      <th>5 cm</th>\n",
       "      <th>25 cm</th>\n",
       "      <th>45 cm</th>\n",
       "      <th>TMAX (C)</th>\n",
       "      <th>TMIN (C)</th>\n",
       "    </tr>\n",
       "    <tr>\n",
       "      <th>Date</th>\n",
       "      <th></th>\n",
       "      <th></th>\n",
       "      <th></th>\n",
       "      <th></th>\n",
       "      <th></th>\n",
       "      <th></th>\n",
       "    </tr>\n",
       "  </thead>\n",
       "  <tbody>\n",
       "    <tr>\n",
       "      <th>2005-08-30</th>\n",
       "      <td>0</td>\n",
       "      <td>0.27</td>\n",
       "      <td>0.32</td>\n",
       "      <td>0.32</td>\n",
       "      <td>31.838570</td>\n",
       "      <td>17.949821</td>\n",
       "    </tr>\n",
       "    <tr>\n",
       "      <th>2005-08-31</th>\n",
       "      <td>0</td>\n",
       "      <td>0.26</td>\n",
       "      <td>0.32</td>\n",
       "      <td>0.32</td>\n",
       "      <td>33.071891</td>\n",
       "      <td>17.849822</td>\n",
       "    </tr>\n",
       "    <tr>\n",
       "      <th>2005-09-01</th>\n",
       "      <td>0</td>\n",
       "      <td>0.25</td>\n",
       "      <td>0.32</td>\n",
       "      <td>0.31</td>\n",
       "      <td>33.099669</td>\n",
       "      <td>17.777600</td>\n",
       "    </tr>\n",
       "    <tr>\n",
       "      <th>2005-09-02</th>\n",
       "      <td>0</td>\n",
       "      <td>0.25</td>\n",
       "      <td>0.31</td>\n",
       "      <td>0.31</td>\n",
       "      <td>34.410767</td>\n",
       "      <td>17.627602</td>\n",
       "    </tr>\n",
       "    <tr>\n",
       "      <th>2005-09-03</th>\n",
       "      <td>0</td>\n",
       "      <td>0.24</td>\n",
       "      <td>0.31</td>\n",
       "      <td>0.31</td>\n",
       "      <td>32.371899</td>\n",
       "      <td>20.560906</td>\n",
       "    </tr>\n",
       "    <tr>\n",
       "      <th>...</th>\n",
       "      <td>...</td>\n",
       "      <td>...</td>\n",
       "      <td>...</td>\n",
       "      <td>...</td>\n",
       "      <td>...</td>\n",
       "      <td>...</td>\n",
       "    </tr>\n",
       "    <tr>\n",
       "      <th>2020-12-27</th>\n",
       "      <td>0</td>\n",
       "      <td>0.23</td>\n",
       "      <td>0.25</td>\n",
       "      <td>0.15</td>\n",
       "      <td>17.538714</td>\n",
       "      <td>1.905536</td>\n",
       "    </tr>\n",
       "    <tr>\n",
       "      <th>2020-12-28</th>\n",
       "      <td>0</td>\n",
       "      <td>0.23</td>\n",
       "      <td>0.25</td>\n",
       "      <td>0.15</td>\n",
       "      <td>5.977718</td>\n",
       "      <td>1.688872</td>\n",
       "    </tr>\n",
       "    <tr>\n",
       "      <th>2020-12-29</th>\n",
       "      <td>22.1</td>\n",
       "      <td>0.24</td>\n",
       "      <td>0.25</td>\n",
       "      <td>0.15</td>\n",
       "      <td>14.038749</td>\n",
       "      <td>1.861093</td>\n",
       "    </tr>\n",
       "    <tr>\n",
       "      <th>2020-12-30</th>\n",
       "      <td>16.76</td>\n",
       "      <td>0.31</td>\n",
       "      <td>0.31</td>\n",
       "      <td>0.2</td>\n",
       "      <td>4.911062</td>\n",
       "      <td>-0.694438</td>\n",
       "    </tr>\n",
       "    <tr>\n",
       "      <th>2020-12-31</th>\n",
       "      <td>2.79</td>\n",
       "      <td>0.28</td>\n",
       "      <td>0.29</td>\n",
       "      <td>0.2</td>\n",
       "      <td>1.511096</td>\n",
       "      <td>-3.061081</td>\n",
       "    </tr>\n",
       "  </tbody>\n",
       "</table>\n",
       "<p>5603 rows × 6 columns</p>\n",
       "</div>"
      ],
      "text/plain": [
       "               mm  5 cm 25 cm 45 cm   TMAX (C)   TMIN (C)\n",
       "Date                                                     \n",
       "2005-08-30      0  0.27  0.32  0.32  31.838570  17.949821\n",
       "2005-08-31      0  0.26  0.32  0.32  33.071891  17.849822\n",
       "2005-09-01      0  0.25  0.32  0.31  33.099669  17.777600\n",
       "2005-09-02      0  0.25  0.31  0.31  34.410767  17.627602\n",
       "2005-09-03      0  0.24  0.31  0.31  32.371899  20.560906\n",
       "...           ...   ...   ...   ...        ...        ...\n",
       "2020-12-27      0  0.23  0.25  0.15  17.538714   1.905536\n",
       "2020-12-28      0  0.23  0.25  0.15   5.977718   1.688872\n",
       "2020-12-29   22.1  0.24  0.25  0.15  14.038749   1.861093\n",
       "2020-12-30  16.76  0.31  0.31   0.2   4.911062  -0.694438\n",
       "2020-12-31   2.79  0.28  0.29   0.2   1.511096  -3.061081\n",
       "\n",
       "[5603 rows x 6 columns]"
      ]
     },
     "execution_count": 9,
     "metadata": {},
     "output_type": "execute_result"
    }
   ],
   "source": [
    "df = df.iloc[60:,:]\n",
    "df"
   ]
  },
  {
   "cell_type": "code",
   "execution_count": 10,
   "metadata": {},
   "outputs": [],
   "source": [
    "def status(df):\n",
    "\n",
    "\ttable = [[i,\n",
    "           len(df[i]), df[i].isna().sum(),\n",
    "            \"{:.1%}\".format(df[i].isna().sum()/len(df[i]))]\n",
    "          for i in df.columns]\n",
    "\theaders = ['Features', 'Observations', 'No of missing', '% Missing ']\n",
    "\tprint(tabulate(table, headers, tablefmt='pretty', numalign='center'))\n"
   ]
  },
  {
   "cell_type": "code",
   "execution_count": 87,
   "metadata": {},
   "outputs": [],
   "source": [
    "def sequence_of_missing_values(df,feature):\n",
    "    \"\"\"Create the table of the missing range\"\"\"\n",
    "    table = [[v.index[0],\n",
    "            v.index[-1], len(v)]for k, v in df[df[feature] == -996]\n",
    "            .groupby((df[feature] != -996).cumsum())]\n",
    "\n",
    "\n",
    "    df_missing = pd.DataFrame(table, columns=['start_Date', 'End_Date','Frequency'])\n",
    "    return df_missing.sort_values(by=['Frequency'], ascending=False).head(20)\n"
   ]
  },
  {
   "cell_type": "markdown",
   "metadata": {},
   "source": [
    "### Vizualize the missing values occurance for each feature"
   ]
  },
  {
   "cell_type": "markdown",
   "metadata": {},
   "source": [
    "There exisit other missing values tagged as -996, we shall change to nan and vizualize the occurances with each other "
   ]
  },
  {
   "cell_type": "code",
   "execution_count": 13,
   "metadata": {},
   "outputs": [
    {
     "data": {
      "text/plain": [
       "mm           47\n",
       "5 cm         74\n",
       "25 cm       119\n",
       "45 cm        73\n",
       "TMAX (C)      0\n",
       "TMIN (C)      0\n",
       "dtype: int64"
      ]
     },
     "execution_count": 13,
     "metadata": {},
     "output_type": "execute_result"
    }
   ],
   "source": [
    "df.where(df == -996).count()"
   ]
  },
  {
   "cell_type": "code",
   "execution_count": 28,
   "metadata": {},
   "outputs": [],
   "source": [
    "df = df.replace(-996, np.nan)\n",
    "df = df.replace(-999, np.nan)"
   ]
  },
  {
   "cell_type": "code",
   "execution_count": 41,
   "metadata": {},
   "outputs": [
    {
     "data": {
      "text/plain": [
       "<AxesSubplot:ylabel='Date'>"
      ]
     },
     "execution_count": 41,
     "metadata": {},
     "output_type": "execute_result"
    },
    {
     "data": {
      "image/png": "[encoded data removed]",
      "text/plain": [
       "<Figure size 576x432 with 1 Axes>"
      ]
     },
     "metadata": {
      "needs_background": "light"
     },
     "output_type": "display_data"
    }
   ],
   "source": [
    "plt.subplots(figsize=(8,6))\n",
    "sns.heatmap(df.isna(), cbar =False)\n",
    "# imporve this picture."
   ]
  },
  {
   "cell_type": "code",
   "execution_count": 53,
   "metadata": {},
   "outputs": [
    {
     "name": "stdout",
     "output_type": "stream",
     "text": [
      "+------------+--------------+---------------+------------+\n",
      "|  Features  | Observations | No of missing | % Missing  |\n",
      "+------------+--------------+---------------+------------+\n",
      "| PRCP [mm]  |     5603     |      47       |    0.8%    |\n",
      "| SM 5 [cm]  |     5603     |      96       |    1.7%    |\n",
      "| SM 25 [cm] |     5603     |      125      |    2.2%    |\n",
      "| SM 45 [cm] |     5603     |      81       |    1.4%    |\n",
      "|  TMAX (C)  |     5603     |       0       |    0.0%    |\n",
      "|  TMIN (C)  |     5603     |       0       |    0.0%    |\n",
      "+------------+--------------+---------------+------------+\n"
     ]
    }
   ],
   "source": [
    "status(df)"
   ]
  },
  {
   "cell_type": "markdown",
   "metadata": {},
   "source": [
    "Split the dataframe missing features from the dataframe to merge with the temperature data,train and test for predicting missing values.\n",
    "start with lower %0.8\n",
    "alternatives will be to see if other data exsist in the mesonet repository i.e. cloud cover or windspeed. "
   ]
  },
  {
   "cell_type": "markdown",
   "metadata": {},
   "source": [
    "General working format: \n",
    "- get the sequence of missing values\n",
    "- isolate the feature in question & drop the mising values\n",
    "- Merge the dataframe with the temperature values\n",
    "- split, train and test in the pipeline \n",
    "- choose the pipeline with highest $R^2$ and RMSE\n"
   ]
  },
  {
   "cell_type": "markdown",
   "metadata": {},
   "source": [
    "### Precipitation"
   ]
  },
  {
   "cell_type": "code",
   "execution_count": 93,
   "metadata": {},
   "outputs": [
    {
     "data": {
      "text/html": [
       "<div>\n",
       "<style scoped>\n",
       "    .dataframe tbody tr th:only-of-type {\n",
       "        vertical-align: middle;\n",
       "    }\n",
       "\n",
       "    .dataframe tbody tr th {\n",
       "        vertical-align: top;\n",
       "    }\n",
       "\n",
       "    .dataframe thead th {\n",
       "        text-align: right;\n",
       "    }\n",
       "</style>\n",
       "<table border=\"1\" class=\"dataframe\">\n",
       "  <thead>\n",
       "    <tr style=\"text-align: right;\">\n",
       "      <th></th>\n",
       "      <th>start_Date</th>\n",
       "      <th>End_Date</th>\n",
       "      <th>Frequency</th>\n",
       "    </tr>\n",
       "  </thead>\n",
       "  <tbody>\n",
       "    <tr>\n",
       "      <th>3</th>\n",
       "      <td>2005-12-24</td>\n",
       "      <td>2006-01-07</td>\n",
       "      <td>15</td>\n",
       "    </tr>\n",
       "    <tr>\n",
       "      <th>2</th>\n",
       "      <td>2005-12-09</td>\n",
       "      <td>2005-12-20</td>\n",
       "      <td>12</td>\n",
       "    </tr>\n",
       "    <tr>\n",
       "      <th>0</th>\n",
       "      <td>2005-11-08</td>\n",
       "      <td>2005-11-14</td>\n",
       "      <td>7</td>\n",
       "    </tr>\n",
       "    <tr>\n",
       "      <th>5</th>\n",
       "      <td>2006-01-18</td>\n",
       "      <td>2006-01-20</td>\n",
       "      <td>3</td>\n",
       "    </tr>\n",
       "    <tr>\n",
       "      <th>1</th>\n",
       "      <td>2005-12-01</td>\n",
       "      <td>2005-12-02</td>\n",
       "      <td>2</td>\n",
       "    </tr>\n",
       "    <tr>\n",
       "      <th>4</th>\n",
       "      <td>2006-01-14</td>\n",
       "      <td>2006-01-15</td>\n",
       "      <td>2</td>\n",
       "    </tr>\n",
       "    <tr>\n",
       "      <th>6</th>\n",
       "      <td>2006-01-22</td>\n",
       "      <td>2006-01-23</td>\n",
       "      <td>2</td>\n",
       "    </tr>\n",
       "    <tr>\n",
       "      <th>7</th>\n",
       "      <td>2007-07-29</td>\n",
       "      <td>2007-07-30</td>\n",
       "      <td>2</td>\n",
       "    </tr>\n",
       "    <tr>\n",
       "      <th>8</th>\n",
       "      <td>2013-08-19</td>\n",
       "      <td>2013-08-20</td>\n",
       "      <td>2</td>\n",
       "    </tr>\n",
       "  </tbody>\n",
       "</table>\n",
       "</div>"
      ],
      "text/plain": [
       "  start_Date   End_Date  Frequency\n",
       "3 2005-12-24 2006-01-07         15\n",
       "2 2005-12-09 2005-12-20         12\n",
       "0 2005-11-08 2005-11-14          7\n",
       "5 2006-01-18 2006-01-20          3\n",
       "1 2005-12-01 2005-12-02          2\n",
       "4 2006-01-14 2006-01-15          2\n",
       "6 2006-01-22 2006-01-23          2\n",
       "7 2007-07-29 2007-07-30          2\n",
       "8 2013-08-19 2013-08-20          2"
      ]
     },
     "execution_count": 93,
     "metadata": {},
     "output_type": "execute_result"
    }
   ],
   "source": [
    "sequence_of_missing_values(df.replace(np.nan,-996),'PRCP [mm]')"
   ]
  },
  {
   "cell_type": "code",
   "execution_count": 108,
   "metadata": {},
   "outputs": [],
   "source": [
    "prcp = pd.DataFrame(df['PRCP [mm]'])\n",
    "prcp = prcp.dropna().merge(df.iloc[:,-2:], how = 'inner',on = 'Date')"
   ]
  },
  {
   "cell_type": "code",
   "execution_count": 116,
   "metadata": {},
   "outputs": [
    {
     "data": {
      "text/html": [
       "<div>\n",
       "<style scoped>\n",
       "    .dataframe tbody tr th:only-of-type {\n",
       "        vertical-align: middle;\n",
       "    }\n",
       "\n",
       "    .dataframe tbody tr th {\n",
       "        vertical-align: top;\n",
       "    }\n",
       "\n",
       "    .dataframe thead th {\n",
       "        text-align: right;\n",
       "    }\n",
       "</style>\n",
       "<table border=\"1\" class=\"dataframe\">\n",
       "  <thead>\n",
       "    <tr style=\"text-align: right;\">\n",
       "      <th></th>\n",
       "      <th>TMAX (C)</th>\n",
       "      <th>TMIN (C)</th>\n",
       "    </tr>\n",
       "    <tr>\n",
       "      <th>Date</th>\n",
       "      <th></th>\n",
       "      <th></th>\n",
       "    </tr>\n",
       "  </thead>\n",
       "  <tbody>\n",
       "    <tr>\n",
       "      <th>2005-08-30</th>\n",
       "      <td>31.838570</td>\n",
       "      <td>17.949821</td>\n",
       "    </tr>\n",
       "    <tr>\n",
       "      <th>2005-08-31</th>\n",
       "      <td>33.071891</td>\n",
       "      <td>17.849822</td>\n",
       "    </tr>\n",
       "    <tr>\n",
       "      <th>2005-09-01</th>\n",
       "      <td>33.099669</td>\n",
       "      <td>17.777600</td>\n",
       "    </tr>\n",
       "    <tr>\n",
       "      <th>2005-09-02</th>\n",
       "      <td>34.410767</td>\n",
       "      <td>17.627602</td>\n",
       "    </tr>\n",
       "    <tr>\n",
       "      <th>2005-09-03</th>\n",
       "      <td>32.371899</td>\n",
       "      <td>20.560906</td>\n",
       "    </tr>\n",
       "    <tr>\n",
       "      <th>...</th>\n",
       "      <td>...</td>\n",
       "      <td>...</td>\n",
       "    </tr>\n",
       "    <tr>\n",
       "      <th>2020-12-27</th>\n",
       "      <td>17.538714</td>\n",
       "      <td>1.905536</td>\n",
       "    </tr>\n",
       "    <tr>\n",
       "      <th>2020-12-28</th>\n",
       "      <td>5.977718</td>\n",
       "      <td>1.688872</td>\n",
       "    </tr>\n",
       "    <tr>\n",
       "      <th>2020-12-29</th>\n",
       "      <td>14.038749</td>\n",
       "      <td>1.861093</td>\n",
       "    </tr>\n",
       "    <tr>\n",
       "      <th>2020-12-30</th>\n",
       "      <td>4.911062</td>\n",
       "      <td>-0.694438</td>\n",
       "    </tr>\n",
       "    <tr>\n",
       "      <th>2020-12-31</th>\n",
       "      <td>1.511096</td>\n",
       "      <td>-3.061081</td>\n",
       "    </tr>\n",
       "  </tbody>\n",
       "</table>\n",
       "<p>5556 rows × 2 columns</p>\n",
       "</div>"
      ],
      "text/plain": [
       "             TMAX (C)   TMIN (C)\n",
       "Date                            \n",
       "2005-08-30  31.838570  17.949821\n",
       "2005-08-31  33.071891  17.849822\n",
       "2005-09-01  33.099669  17.777600\n",
       "2005-09-02  34.410767  17.627602\n",
       "2005-09-03  32.371899  20.560906\n",
       "...               ...        ...\n",
       "2020-12-27  17.538714   1.905536\n",
       "2020-12-28   5.977718   1.688872\n",
       "2020-12-29  14.038749   1.861093\n",
       "2020-12-30   4.911062  -0.694438\n",
       "2020-12-31   1.511096  -3.061081\n",
       "\n",
       "[5556 rows x 2 columns]"
      ]
     },
     "execution_count": 116,
     "metadata": {},
     "output_type": "execute_result"
    }
   ],
   "source": [
    "prcp.iloc[:,-2:]"
   ]
  },
  {
   "cell_type": "code",
   "execution_count": 145,
   "metadata": {},
   "outputs": [],
   "source": [
    "def pipeline(df):\n",
    "\t# call the concate\n",
    "\t\n",
    "\n",
    "\tX = df.iloc[:, -2:]\n",
    "\ty = df.iloc[:, :-2]\n",
    "\n",
    "\tX_train, X_test, y_train, y_test = train_test_split(X, y.values.ravel(), test_size=0.2)\n",
    "\n",
    "\tpipeline_RF = Pipeline([('RandomForest', RandomForestRegressor())])\n",
    "\tpipeline_XGB = Pipeline([('XGBoost', XGBRegressor())])\n",
    "\tpipeline_ExTree = Pipeline([('ExtraTree', ExtraTreesRegressor())])\n",
    "\tpipelines = [pipeline_RF, pipeline_XGB, pipeline_ExTree]\n",
    "\n",
    "\tresults(X_train, y_train, X_test, y_test, pipelines)\n",
    "\n",
    "\treturn df, pipelines\n",
    "\n",
    "def results(x,y,x_t,y_t,pipelines):\n",
    "\ttable = PrettyTable()\n",
    "\n",
    "\t# Fit the pipelines\n",
    "\t[pipe.fit(x, y) for pipe in pipelines]\n",
    "\n",
    "\tpipe_dict = {0: 'RandomForest', 1: 'XGBoost', 2: 'ExtraTree'}\n",
    "\t\n",
    "\tresults = [[pipe_dict[i],\"{:.2%}\".format(r2_score(model.predict(x), y))]\n",
    "\t           for i,model in enumerate(pipelines)]\n",
    "\ttable.title = 'Training set Score'\n",
    "\ttable.field_names= ['Algorithm','R-square']\n",
    "\ttable.add_rows(results)\n",
    "\n",
    "\tprint(table)\n",
    "\n",
    "\ttable = PrettyTable()\n",
    "\n",
    "\tresults2 = [[pipe_dict[i],\"{:.2%}\".format(r2_score(model.predict(x_t), y_t))]\n",
    "\t           for i,model in enumerate(pipelines)]\n",
    "\ttable.title = 'Test set Score'\n",
    "\ttable.field_names= ['Algorithm','R-square']\n",
    "\ttable.add_rows(results2)\n",
    "\t\n",
    "\t\n",
    "\tprint(table)"
   ]
  },
  {
   "cell_type": "code",
   "execution_count": 146,
   "metadata": {},
   "outputs": [
    {
     "name": "stdout",
     "output_type": "stream",
     "text": [
      "+-------------------------+\n",
      "|    Training set Score   |\n",
      "+--------------+----------+\n",
      "|  Algorithm   | R-square |\n",
      "+--------------+----------+\n",
      "| RandomForest |  73.11%  |\n",
      "|   XGBoost    |  78.18%  |\n",
      "|  ExtraTree   | 100.00%  |\n",
      "+--------------+----------+\n",
      "+-------------------------+\n",
      "|      Test set Score     |\n",
      "+--------------+----------+\n",
      "|  Algorithm   | R-square |\n",
      "+--------------+----------+\n",
      "| RandomForest | -259.71% |\n",
      "|   XGBoost    | -236.87% |\n",
      "|  ExtraTree   | -193.08% |\n",
      "+--------------+----------+\n"
     ]
    },
    {
     "data": {
      "text/plain": [
       "(            PRCP [mm]   TMAX (C)   TMIN (C)\n",
       " Date                                       \n",
       " 2005-08-30       0.00  31.838570  17.949821\n",
       " 2005-08-31       0.00  33.071891  17.849822\n",
       " 2005-09-01       0.00  33.099669  17.777600\n",
       " 2005-09-02       0.00  34.410767  17.627602\n",
       " 2005-09-03       0.00  32.371899  20.560906\n",
       " ...               ...        ...        ...\n",
       " 2020-12-27       0.00  17.538714   1.905536\n",
       " 2020-12-28       0.00   5.977718   1.688872\n",
       " 2020-12-29      22.10  14.038749   1.861093\n",
       " 2020-12-30      16.76   4.911062  -0.694438\n",
       " 2020-12-31       2.79   1.511096  -3.061081\n",
       " \n",
       " [5556 rows x 3 columns],\n",
       " [Pipeline(steps=[('RandomForest', RandomForestRegressor())]),\n",
       "  Pipeline(steps=[('XGBoost',\n",
       "                   XGBRegressor(base_score=0.5, booster='gbtree',\n",
       "                                colsample_bylevel=1, colsample_bynode=1,\n",
       "                                colsample_bytree=1, gamma=0, gpu_id=-1,\n",
       "                                importance_type='gain',\n",
       "                                interaction_constraints='',\n",
       "                                learning_rate=0.300000012, max_delta_step=0,\n",
       "                                max_depth=6, min_child_weight=1, missing=nan,\n",
       "                                monotone_constraints='()', n_estimators=100,\n",
       "                                n_jobs=12, num_parallel_tree=1, random_state=0,\n",
       "                                reg_alpha=0, reg_lambda=1, scale_pos_weight=1,\n",
       "                                subsample=1, tree_method='exact',\n",
       "                                validate_parameters=1, verbosity=None))]),\n",
       "  Pipeline(steps=[('ExtraTree', ExtraTreesRegressor())])])"
      ]
     },
     "execution_count": 146,
     "metadata": {},
     "output_type": "execute_result"
    }
   ],
   "source": [
    "pipeline(prcp)"
   ]
  },
  {
   "cell_type": "code",
   "execution_count": null,
   "metadata": {},
   "outputs": [],
   "source": []
  },
  {
   "cell_type": "code",
   "execution_count": null,
   "metadata": {},
   "outputs": [],
   "source": [
    "Perhaps a linear interpolation between the missing values. since they arent that much"
   ]
  }
 ],
 "metadata": {
  "interpreter": {
   "hash": "c8121b107dd46eadc1281a2ef47c4a52510c425ba743d0a74464e32313e4f930"
  },
  "kernelspec": {
   "display_name": "Python 3.7.7 64-bit ('base': conda)",
   "name": "python3"
  },
  "language_info": {
   "codemirror_mode": {
    "name": "ipython",
    "version": 3
   },
   "file_extension": ".py",
   "mimetype": "text/x-python",
   "name": "python",
   "nbconvert_exporter": "python",
   "pygments_lexer": "ipython3",
   "version": "3.7.7"
  },
  "orig_nbformat": 4
 },
 "nbformat": 4,
 "nbformat_minor": 2
}
